{
 "cells": [
  {
   "cell_type": "markdown",
   "id": "2281a024",
   "metadata": {},
   "source": [
    "## What is a DB \n",
    "\n",
    "A structured set of `computerized` data with an accecssible interface"
   ]
  },
  {
   "cell_type": "markdown",
   "id": "0c09c7bd",
   "metadata": {},
   "source": [
    "## SQL vs. MySQL\n",
    "\n",
    "SQL(Structured Query Language), 데이터 베이스에게 말을 걸 때 사용하는 언어\n",
    "- 데이터와 상호작용하고 접근하며, 데이터를 업데이트하고 삭제하는 등 기본적으로 데이터베이스에서 데이터를 조작하기위해 우리가 사용하는 언어\n"
   ]
  }
 ],
 "metadata": {
  "kernelspec": {
   "display_name": "Python 3 (ipykernel)",
   "language": "python",
   "name": "python3"
  },
  "language_info": {
   "codemirror_mode": {
    "name": "ipython",
    "version": 3
   },
   "file_extension": ".py",
   "mimetype": "text/x-python",
   "name": "python",
   "nbconvert_exporter": "python",
   "pygments_lexer": "ipython3",
   "version": "3.9.13"
  },
  "toc": {
   "base_numbering": 1,
   "nav_menu": {},
   "number_sections": true,
   "sideBar": true,
   "skip_h1_title": false,
   "title_cell": "Table of Contents",
   "title_sidebar": "Contents",
   "toc_cell": false,
   "toc_position": {},
   "toc_section_display": true,
   "toc_window_display": false
  }
 },
 "nbformat": 4,
 "nbformat_minor": 5
}
