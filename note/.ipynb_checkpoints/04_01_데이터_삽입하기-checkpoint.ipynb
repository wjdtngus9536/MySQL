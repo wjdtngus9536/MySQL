{
 "cells": [
  {
   "cell_type": "markdown",
   "id": "b6043021",
   "metadata": {},
   "source": [
    "# 데이터 삽입하기"
   ]
  },
  {
   "cell_type": "markdown",
   "id": "e360a66a",
   "metadata": {},
   "source": [
    "## INSERT \n",
    "\n",
    "INSERT INTO <table name>() VALUES();\n",
    "    \n",
    "```mysql\n",
    "INSERT INTO cats(name, age)\n",
    "VALUES ('Jetson', 7);\n",
    "\n",
    "INSERT INTO cats(name, age) VALUES ('Jetson', 7);\n",
    "\n",
    "INSERT INTO cats(\n",
    "            name, \n",
    "            age)\n",
    "VALUES     (\"Jetson\",\n",
    "            7);\n",
    "```\n",
    "\n",
    "column 이름을 쓰는 순서도 중요하다. 이후에도 잘 지켜야 하기 때문이다.\n",
    "\n",
    "코드: 데이터 삽입하기\n",
    "-- Re-create the cats table (I dropped it in a previous video)\n",
    "\n",
    "\n",
    "```sql\n",
    "CREATE TABLE cats (\n",
    "    name VARCHAR(50),\n",
    "    age INT\n",
    ");\n",
    "\n",
    "Insert a cat:\n",
    "\n",
    "INSERT INTO cats (name, age) \n",
    "VALUES ('Blue Steele', 5);\n",
    "And another:\n",
    "\n",
    "INSERT INTO cats (name, age) \n",
    "VALUES ('Jenkins', 7);\n",
    "\n",
    "```"
   ]
  },
  {
   "cell_type": "markdown",
   "id": "e177ef37",
   "metadata": {},
   "source": [
    "## SELECT 초스피드 간단 소개\n",
    "\n",
    "SELECT * FROM cats; # cats 테이블에서 모두를 보여준다."
   ]
  },
  {
   "cell_type": "markdown",
   "id": "c55dbc54",
   "metadata": {},
   "source": [
    "## 다중 INSERT \n",
    "\n",
    "```mysql\n",
    "INSERT INTO cats (name, age)\n",
    "VALUES ()\n",
    "\n",
    "```\n",
    "\n",
    "ㅇ-- Single insert (switching order of name and age)\n",
    "```sql\n",
    "INSERT INTO cats (age, name) \n",
    "VALUES \n",
    "  (2, 'Beth');\n",
    "```\n",
    "  \n",
    "-- Multiple Insert:\n",
    "```mysql\n",
    "INSERT INTO cats (name, age) \n",
    "VALUES \n",
    "  ('Meatball', 5), \n",
    "  ('Turkey', 1), \n",
    "  ('Potato Face', 15);\n",
    "```"
   ]
  },
  {
   "cell_type": "markdown",
   "id": "64f5c582",
   "metadata": {},
   "source": [
    "## INSERT 도전과제 풀이\n",
    "\n",
    "데이터베이스 선택 : USE cat_app;\n",
    "현재 데이터베이스 확인 : SELECT DATABASE();\n",
    "\n",
    "1. 테이블 생성 : first_name VARCHAR(20), last_name VARCHAR(20), age INT)\n",
    "```mysql\n",
    "CREATE TABLE people(\n",
    "    first_name VARCHAR(20),\n",
    "    last_name VARCHAR(20),\n",
    "    age INT\n",
    "    );\n",
    "    \n",
    "INSERT INTO people (first_name, last_name, age)\n",
    "VALUES ('Tina', 'Belcher', 13);\n",
    "\n",
    "INSERT INTO people(age, last_name, first_name)\n",
    "VALUES (42, 'Belcher', 'Bob');\n",
    "\n",
    "\n",
    "INSERT INTO people(first_name, last_name, age)\n",
    "VALUES\n",
    "    ('Linda', 'Belcher', 45),\n",
    "    ('Phillip', 'Frond', 38),\n",
    "    ('Calvin', 'Fischoeder', 70);\n",
    "    \n",
    "-- 테이블 삭제\n",
    "DROP TABLE people;\n",
    "\n",
    "-- 테이블 삭제 확인(error 출력)\n",
    "SELECT * FROM people;\n",
    "\n",
    "-- SHOW TABLES;\n",
    "SHOW TABLES;\n",
    "\n",
    "```"
   ]
  },
  {
   "cell_type": "markdown",
   "id": "2fd65479",
   "metadata": {},
   "source": [
    "## NULL과  NOT_NULL\n",
    "\n",
    "> NULL : 미확인 값이나 아직 적용되지 않은 값(Value is Not known,)  \n",
    "0값 조차도 존재하지 않는 개체의 빈 특성\n",
    "\n",
    "NULL\n",
    "YES\n",
    "- 알려지지 않은 값이 있어도 괜찮다는 의미.\n",
    "\n",
    "NOT NULL : 테이블을 정의할 때 지정할 수 있다.\n",
    "예를 들어 name과 같은 필드가 NOT NULL이라고 지정하고 싶다면\n",
    "\n",
    "Using NOT NULL:\n",
    "```mysql\n",
    "CREATE TABLE cats2 (\n",
    "    name VARCHAR(100) NOT NULL,\n",
    "    age INT NOT NULL\n",
    ");\n",
    "```\n",
    "테스트\n",
    "\n",
    "INSERT INTO cats2(name) VALUES('Texas');"
   ]
  },
  {
   "cell_type": "markdown",
   "id": "33c77ec2",
   "metadata": {},
   "source": [
    "## 기본값 설정하기 36\n",
    "\n",
    "```mysql\n",
    "CREATE TABLE cats3 (\n",
    "    name VARCHAR(20) DEFAULT 'no name provided',\n",
    "    age INT DEFAULT 99\n",
    ");\n",
    "\n",
    "INSERT INTO cats3(age) VALUES(13);\n",
    "\n",
    "INSERT INTO cats3() VALUES();\n",
    "\n",
    "CREATE TABLE cats4 (\n",
    "    name VARCHAR(20) NOT NULL DEFAULT 'unnamed',\n",
    "    age INT NOT NULL DEFAULT 99\n",
    ");\n",
    "\n",
    "```"
   ]
  },
  {
   "cell_type": "markdown",
   "id": "da50eacb",
   "metadata": {},
   "source": [
    "## 기본키(Primary key) 입문\n",
    "\n",
    "속성값이 같아도 각기 다른 인스턴스인 경우\n",
    "\n",
    "Primary key : 유니크한 식별 자"
   ]
  },
  {
   "cell_type": "code",
   "execution_count": null,
   "id": "1bdf26d2",
   "metadata": {},
   "outputs": [],
   "source": []
  }
 ],
 "metadata": {
  "kernelspec": {
   "display_name": "Python 3 (ipykernel)",
   "language": "python",
   "name": "python3"
  },
  "language_info": {
   "codemirror_mode": {
    "name": "ipython",
    "version": 3
   },
   "file_extension": ".py",
   "mimetype": "text/x-python",
   "name": "python",
   "nbconvert_exporter": "python",
   "pygments_lexer": "ipython3",
   "version": "3.9.13"
  },
  "toc": {
   "base_numbering": 1,
   "nav_menu": {},
   "number_sections": true,
   "sideBar": true,
   "skip_h1_title": false,
   "title_cell": "Table of Contents",
   "title_sidebar": "Contents",
   "toc_cell": false,
   "toc_position": {},
   "toc_section_display": true,
   "toc_window_display": false
  }
 },
 "nbformat": 4,
 "nbformat_minor": 5
}
